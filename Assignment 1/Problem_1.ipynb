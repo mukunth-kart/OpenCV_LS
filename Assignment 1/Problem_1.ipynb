{
  "nbformat": 4,
  "nbformat_minor": 0,
  "metadata": {
    "colab": {
      "provenance": [],
      "authorship_tag": "ABX9TyNk7g5/VQwAFUF7rVNREMhh",
      "include_colab_link": true
    },
    "kernelspec": {
      "name": "python3",
      "display_name": "Python 3"
    },
    "language_info": {
      "name": "python"
    }
  },
  "cells": [
    {
      "cell_type": "markdown",
      "metadata": {
        "id": "view-in-github",
        "colab_type": "text"
      },
      "source": [
        "<a href=\"https://colab.research.google.com/github/mukunth-kart/OpenCV_LS/blob/main/Problem_1.ipynb\" target=\"_parent\"><img src=\"https://colab.research.google.com/assets/colab-badge.svg\" alt=\"Open In Colab\"/></a>"
      ]
    },
    {
      "cell_type": "code",
      "source": [
        "import numpy as np\n"
      ],
      "metadata": {
        "id": "eOZ-1bo6jFXJ"
      },
      "execution_count": null,
      "outputs": []
    },
    {
      "cell_type": "markdown",
      "source": [
        "#**Problem 1**"
      ],
      "metadata": {
        "id": "TQyLgiDLit0L"
      }
    },
    {
      "cell_type": "code",
      "execution_count": null,
      "metadata": {
        "colab": {
          "base_uri": "https://localhost:8080/"
        },
        "id": "p3PL_JSohHN0",
        "outputId": "b15d9734-bf20-488f-eda2-f3f14aa6d75f"
      },
      "outputs": [
        {
          "output_type": "execute_result",
          "data": {
            "text/plain": [
              "array([[189, 217,  96, 174, 129, 219,  26,  41, 101,  59, 129, 104, 204,\n",
              "        221, 109],\n",
              "       [ 19,  92,  77, 193, 178, 226,  50,  45,  51,  48, 230, 167, 152,\n",
              "        122,  71],\n",
              "       [ 13,  46,  19, 124, 152,  88,  70, 143,  28,  41,   7,   9, 212,\n",
              "        249, 132],\n",
              "       [ 69, 190, 132,  61,   6, 224,  91, 239, 211,  90,  76, 221,  48,\n",
              "        137,  40],\n",
              "       [234,  94, 131,  65,  89, 196, 215, 181, 222, 209,  61, 169,  44,\n",
              "         54, 180],\n",
              "       [204, 222,  24, 112,   8,  14, 252, 193,  27, 118, 146, 149,  84,\n",
              "        192,  36],\n",
              "       [141,  44, 235,  83,  35, 119, 252, 255, 193, 101,  44,  11,  94,\n",
              "        234, 231],\n",
              "       [  3, 159,  88,  40,   6, 140, 118,  16,  87, 106,   9, 228,  44,\n",
              "          5, 155],\n",
              "       [ 51, 204, 193, 130, 157, 193,  35, 127,  48, 210, 143,  81, 138,\n",
              "         26, 166],\n",
              "       [126,  70,  70, 254,  25,  65, 103, 134, 201, 164, 251,  90,  79,\n",
              "         30,   3],\n",
              "       [  5, 220,  28,  35,  95,  35,  52,  63, 119,  25,   6, 225,  53,\n",
              "         74, 196],\n",
              "       [ 28, 251,  41, 114,  39, 181, 146,  99, 171,  43,  12,  88,   7,\n",
              "         20, 125],\n",
              "       [ 89, 174, 176, 107,  72,  59,  74, 243, 164, 170,  60, 209, 205,\n",
              "        219,  78],\n",
              "       [ 44, 178, 115, 220,  21,  37,  64,  93, 128, 124, 193,  44, 173,\n",
              "         25,  45],\n",
              "       [ 34,  49,  20, 155,   5,  74,  90, 224,   5, 192, 143, 197, 129,\n",
              "          3, 174]])"
            ]
          },
          "metadata": {},
          "execution_count": 4
        }
      ],
      "source": [
        "arr = np.random.randint(0, 256, size = (15,15))\n",
        "arr"
      ]
    },
    {
      "cell_type": "markdown",
      "source": [
        "1. Create a new array where all the elements less than the threshold(120) are set to zero and the\n",
        "rest of them remain the same."
      ],
      "metadata": {
        "id": "PUFqR1X6kgQe"
      }
    },
    {
      "cell_type": "code",
      "source": [
        "new_arr = list()\n",
        "for i in arr:\n",
        "  for j in range(len(i)):\n",
        "    if(i[j]<120):\n",
        "      i[j] = 0\n",
        "  new_arr.append(i)\n",
        "new_arr = np.array(new_arr)"
      ],
      "metadata": {
        "id": "E_KUMSCMkImP"
      },
      "execution_count": null,
      "outputs": []
    },
    {
      "cell_type": "code",
      "source": [
        "new_arr"
      ],
      "metadata": {
        "colab": {
          "base_uri": "https://localhost:8080/"
        },
        "id": "5t5_Wymdkilz",
        "outputId": "3e9d947d-a062-47c0-a7ed-0a09eec5df6e"
      },
      "execution_count": null,
      "outputs": [
        {
          "output_type": "execute_result",
          "data": {
            "text/plain": [
              "array([[189, 217,   0, 174, 129, 219,   0,   0,   0,   0, 129,   0, 204,\n",
              "        221,   0],\n",
              "       [  0,   0,   0, 193, 178, 226,   0,   0,   0,   0, 230, 167, 152,\n",
              "        122,   0],\n",
              "       [  0,   0,   0, 124, 152,   0,   0, 143,   0,   0,   0,   0, 212,\n",
              "        249, 132],\n",
              "       [  0, 190, 132,   0,   0, 224,   0, 239, 211,   0,   0, 221,   0,\n",
              "        137,   0],\n",
              "       [234,   0, 131,   0,   0, 196, 215, 181, 222, 209,   0, 169,   0,\n",
              "          0, 180],\n",
              "       [204, 222,   0,   0,   0,   0, 252, 193,   0,   0, 146, 149,   0,\n",
              "        192,   0],\n",
              "       [141,   0, 235,   0,   0,   0, 252, 255, 193,   0,   0,   0,   0,\n",
              "        234, 231],\n",
              "       [  0, 159,   0,   0,   0, 140,   0,   0,   0,   0,   0, 228,   0,\n",
              "          0, 155],\n",
              "       [  0, 204, 193, 130, 157, 193,   0, 127,   0, 210, 143,   0, 138,\n",
              "          0, 166],\n",
              "       [126,   0,   0, 254,   0,   0,   0, 134, 201, 164, 251,   0,   0,\n",
              "          0,   0],\n",
              "       [  0, 220,   0,   0,   0,   0,   0,   0,   0,   0,   0, 225,   0,\n",
              "          0, 196],\n",
              "       [  0, 251,   0,   0,   0, 181, 146,   0, 171,   0,   0,   0,   0,\n",
              "          0, 125],\n",
              "       [  0, 174, 176,   0,   0,   0,   0, 243, 164, 170,   0, 209, 205,\n",
              "        219,   0],\n",
              "       [  0, 178,   0, 220,   0,   0,   0,   0, 128, 124, 193,   0, 173,\n",
              "          0,   0],\n",
              "       [  0,   0,   0, 155,   0,   0,   0, 224,   0, 192, 143, 197, 129,\n",
              "          0, 174]])"
            ]
          },
          "metadata": {},
          "execution_count": 8
        }
      ]
    },
    {
      "cell_type": "markdown",
      "source": [
        "2. Create a Python function named boundary transversal(matrix) that will print out boundary\n",
        "elements of the matrix starting from the top-left corner and in clockwise direction.\n"
      ],
      "metadata": {
        "id": "TECfzIlclBHe"
      }
    },
    {
      "cell_type": "code",
      "source": [
        "def boundary_transversal(matrix):\n",
        "  ulim = len(matrix)-1\n",
        "  llim = 0\n",
        "  mid_elem = matrix[int(ulim/2)][int(ulim/2)]\n",
        "  l = list()\n",
        "  i = 0\n",
        "  j = 0\n",
        "  even = True #even x even\n",
        "  if(ulim%2==0):\n",
        "    even = False #odd x odd\n",
        "  while(True):\n",
        "    i = llim\n",
        "    j = llim\n",
        "    while(True):\n",
        "      l.append(matrix[i][j])\n",
        "      j+=1\n",
        "      if(j==ulim):\n",
        "        break\n",
        "    while(True):\n",
        "      l.append(matrix[i][j])\n",
        "      i+=1\n",
        "      if(i==ulim):\n",
        "        break\n",
        "    while(True):\n",
        "      l.append(matrix[i][j])\n",
        "      j-=1\n",
        "      if(j==llim):\n",
        "        break\n",
        "    while(True):\n",
        "      if(i!=llim):\n",
        "        l.append(matrix[i][j])\n",
        "      i-=1\n",
        "      if(i==llim):\n",
        "        break\n",
        "    ulim-=1\n",
        "    llim+=1\n",
        "    if(llim>=ulim):\n",
        "      break\n",
        "  if(even == False): # If odd x odd matrix then add middle number seperately\n",
        "    l.append(mid_elem)\n",
        "  return l\n"
      ],
      "metadata": {
        "id": "rqFowRQ3k8Bz"
      },
      "execution_count": null,
      "outputs": []
    },
    {
      "cell_type": "markdown",
      "source": [
        "3. Create a new Numpy array by replacing all the odd elements with zero and even with one."
      ],
      "metadata": {
        "id": "PMOIEaHxlChU"
      }
    },
    {
      "cell_type": "code",
      "source": [
        "odd_even = list()\n",
        "for i in arr:\n",
        "  for j in range(len(i)):\n",
        "    if(i[j]%2 == 0):\n",
        "      i[j] = 1\n",
        "    else:\n",
        "      i[j] = 0\n",
        "  odd_even.append(i)\n",
        "odd_even = np.array(odd_even)"
      ],
      "metadata": {
        "id": "MnxWFaY6lEeN"
      },
      "execution_count": null,
      "outputs": []
    },
    {
      "cell_type": "code",
      "source": [
        "odd_even"
      ],
      "metadata": {
        "colab": {
          "base_uri": "https://localhost:8080/"
        },
        "id": "tHvGBVDgleiM",
        "outputId": "c9cda51e-888e-4217-dd85-795fa1dbe8a1"
      },
      "execution_count": null,
      "outputs": [
        {
          "output_type": "execute_result",
          "data": {
            "text/plain": [
              "array([[0, 0, 1, 1, 0, 0, 1, 1, 1, 1, 0, 1, 1, 0, 1],\n",
              "       [1, 1, 1, 0, 1, 1, 1, 1, 1, 1, 1, 0, 1, 1, 1],\n",
              "       [1, 1, 1, 1, 1, 1, 1, 0, 1, 1, 1, 1, 1, 0, 1],\n",
              "       [1, 1, 1, 1, 1, 1, 1, 0, 0, 1, 1, 0, 1, 0, 1],\n",
              "       [1, 1, 0, 1, 1, 1, 0, 0, 1, 0, 1, 0, 1, 1, 1],\n",
              "       [1, 1, 1, 1, 1, 1, 1, 0, 1, 1, 1, 0, 1, 1, 1],\n",
              "       [0, 1, 0, 1, 1, 1, 1, 0, 0, 1, 1, 1, 1, 1, 0],\n",
              "       [1, 0, 1, 1, 1, 1, 1, 1, 1, 1, 1, 1, 1, 1, 0],\n",
              "       [1, 1, 0, 1, 0, 0, 1, 0, 1, 1, 0, 1, 1, 1, 1],\n",
              "       [1, 1, 1, 1, 1, 1, 1, 1, 0, 1, 0, 1, 1, 1, 1],\n",
              "       [1, 1, 1, 1, 1, 1, 1, 1, 1, 1, 1, 0, 1, 1, 1],\n",
              "       [1, 0, 1, 1, 1, 0, 1, 1, 0, 1, 1, 1, 1, 1, 0],\n",
              "       [1, 1, 1, 1, 1, 1, 1, 0, 1, 1, 1, 0, 0, 0, 1],\n",
              "       [1, 1, 1, 1, 1, 1, 1, 1, 1, 1, 0, 1, 0, 1, 1],\n",
              "       [1, 1, 1, 0, 1, 1, 1, 1, 1, 1, 0, 0, 0, 1, 1]])"
            ]
          },
          "metadata": {},
          "execution_count": 10
        }
      ]
    }
  ]
}
